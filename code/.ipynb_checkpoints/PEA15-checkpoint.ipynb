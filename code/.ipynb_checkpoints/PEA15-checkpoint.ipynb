{
 "cells": [
  {
   "cell_type": "markdown",
   "id": "a769e2f4",
   "metadata": {},
   "source": [
    "\n",
    "# PEA15 - Annual Population Change\n",
    "[Central Statistics Office - Population Estimates](https://data.cso.ie/table/PEA15)\n",
    "\n",
    "\n",
    "\n",
    "\n",
    "\n",
    "[CA1](https://moodle.cct.ie/mod/assign/view.php?id=143374)\n",
    "\n",
    "\n",
    "\n",
    "### Vital Events\n",
    "- Annual deaths have been rising since 2017, while there's been a decline in annual births since a peak in 2010.\n",
    "\n",
    "### Migration Patterns\n",
    "- Immigration flows show a drop after 2020, with substantial increases thereafter, especially from the rest of the world.\n"
   ]
  },
  {
   "cell_type": "markdown",
   "id": "1cb3b5e2",
   "metadata": {},
   "source": [
    "\n",
    "## Data Loading Data Libraries and Functions\n",
    "The dataset is loaded from the `../raw/PEA15.csv` file.\n"
   ]
  },
  {
   "cell_type": "code",
   "execution_count": null,
   "id": "d84b0b6c",
   "metadata": {},
   "outputs": [],
   "source": [
    "import pandas as pd\n",
    "import altair as alt\n",
    "# Enable the VegaFusion data transformer\n",
    "alt.data_transformers.enable('vegafusion')\n",
    "import matplotlib.pyplot as plt\n",
    "import seaborn as sns\n",
    "import os\n",
    "import warnings\n",
    "# Suppress all warnings\n",
    "warnings.filterwarnings('ignore')\n",
    "\n",
    "%matplotlib inline\n"
   ]
  },
  {
   "cell_type": "code",
   "execution_count": null,
   "id": "5837ee0b",
   "metadata": {},
   "outputs": [],
   "source": [
    "# Load the dataset\n",
    "file_path = '../raw/PEA15.csv'\n",
    "df = pd.read_csv(file_path)"
   ]
  },
  {
   "cell_type": "markdown",
   "id": "71420e92",
   "metadata": {},
   "source": [
    "\n",
    "## Exploratory Data Analysis\n",
    "Exploring the basic structure, descriptive statistics, and identifying duplication and missing values.\n"
   ]
  },
  {
   "cell_type": "code",
   "execution_count": null,
   "id": "f32bec0d",
   "metadata": {},
   "outputs": [],
   "source": [
    "df.head(24) # Extensive Missing Data  at head of dataset"
   ]
  },
  {
   "cell_type": "code",
   "execution_count": null,
   "id": "22614f39",
   "metadata": {},
   "outputs": [],
   "source": [
    "df.columns"
   ]
  },
  {
   "cell_type": "code",
   "execution_count": null,
   "id": "0ba1f2c9",
   "metadata": {},
   "outputs": [],
   "source": [
    "# Unique values in non-numeric columns\n",
    "{col: df[col].unique() for col in df.select_dtypes(include='object').columns}"
   ]
  },
  {
   "cell_type": "code",
   "execution_count": null,
   "id": "d9304582",
   "metadata": {},
   "outputs": [],
   "source": [
    "# Drop method for uniform 'STATISTIC Label' and 'UNIT' columns\n",
    "df = df.drop(['STATISTIC Label', 'UNIT'], axis=1)\n",
    "# Renaming the remaining columns\n",
    "df = df.rename(columns={\n",
    "    'Year': 'year',\n",
    "    'Component': 'component',\n",
    "    'VALUE': 'kvalue'  \n",
    "})"
   ]
  },
  {
   "cell_type": "code",
   "execution_count": null,
   "id": "86ab959f",
   "metadata": {},
   "outputs": [],
   "source": [
    "df.sample(5)"
   ]
  },
  {
   "cell_type": "markdown",
   "id": "e9401b81",
   "metadata": {},
   "source": [
    "  ### Cleaning  and Deduplication"
   ]
  },
  {
   "cell_type": "code",
   "execution_count": null,
   "id": "65f3ba21",
   "metadata": {},
   "outputs": [],
   "source": [
    "# \n",
    "duplicates = df.duplicated()\n",
    "\n",
    "# To see if there are any duplicates\n",
    "any_duplicates = duplicates.any()\n",
    "\n",
    "# Print result\n",
    "print(\"DataFrame  contains duplicates is a \", any_duplicates, \"statement.\")\n"
   ]
  },
  {
   "cell_type": "code",
   "execution_count": null,
   "id": "fa93d7f0",
   "metadata": {
    "scrolled": false
   },
   "outputs": [],
   "source": [
    "df.isna().sum()"
   ]
  },
  {
   "cell_type": "code",
   "execution_count": null,
   "id": "e9921c8d",
   "metadata": {},
   "outputs": [],
   "source": [
    "\n",
    "\n",
    "# Check for missing values\n",
    "missing_values = df.isnull()\n",
    "\n",
    "# Group by 'Year' and count missing values for each field\n",
    "missing_summary = missing_values.groupby(df.year).sum()\n",
    "\n",
    "\n",
    "# Creating a heatmap\n",
    "plt.figure(figsize=(10, 8))\n",
    "sns.heatmap(missing_summary, annot=True, cmap='viridis', fmt='d')\n",
    "plt.title('Heatmap of Missing Values Across Fields and Years')\n",
    "plt.ylabel('year')\n",
    "plt.xlabel('Field')\n",
    "plt.show()\n"
   ]
  },
  {
   "cell_type": "code",
   "execution_count": null,
   "id": "f0a1646e",
   "metadata": {},
   "outputs": [],
   "source": [
    "# Filter for rows where 'kvalue' is missing using .isnull() method\n",
    "missing_value = df.kvalue.isnull()\n",
    "\n",
    "\n",
    "# Filter the original DataFrame using this mask\n",
    "df_missing_value = df[missing_value]\n",
    "\n",
    "# Find the maximum year in this filtered DataFrame\n",
    "last_year_missing = df_missing_value.year.max()  \n",
    "\n",
    "print(f\"The last year with missing data in the 'VALUE' field is: {last_year_missing}\")"
   ]
  },
  {
   "cell_type": "code",
   "execution_count": null,
   "id": "5e6bee6c",
   "metadata": {
    "scrolled": true
   },
   "outputs": [],
   "source": [
    "df.head()"
   ]
  },
  {
   "cell_type": "code",
   "execution_count": null,
   "id": "df04ce15",
   "metadata": {
    "scrolled": true
   },
   "outputs": [],
   "source": [
    "# Finding the year-component combinations that have NaN values in the 'kvalue' field\n",
    "\n",
    "# Filtering the data to find rows where 'kvalue' is NaN\n",
    "nan_data = df[df['kvalue'].isna()]\n",
    "\n",
    "# Extracting year-component combinations\n",
    "nan_year_component_combinations = nan_data[['year', 'component']]\n",
    "\n",
    "# Displaying the unique year-component combinations with NaN values\n",
    "nan_year_component_combinations.drop_duplicates()\n"
   ]
  },
  {
   "cell_type": "code",
   "execution_count": null,
   "id": "5329ce8a",
   "metadata": {},
   "outputs": [],
   "source": [
    "# Pivot table of natural changes to population\n",
    "df_natural = df[df['component'].isin(['Annual births', 'Annual deaths', 'Natural increase'])].pivot(index='year', columns='component', values='kvalue')\n",
    "\n",
    "# Earliest year where both 'Annual Births' and 'Annual Deaths' are available\n",
    "first_complete_year = df_natural.dropna().index.min()\n",
    "\n",
    "# Fill missing 'Annual Births' and 'Annual Deaths' backwards using the 'Natural Increase'\n",
    "for year in range(first_complete_year - 1, df_natural.index.min() - 1, -1):\n",
    "    df_natural.loc[year, 'Annual births'] = df_natural.loc[year + 1, 'Annual births'] - (df_natural.loc[year, 'Natural increase'] - df_natural.loc[year + 1, 'Natural increase'])\n",
    "    df_natural.loc[year, 'Annual deaths'] = df_natural.loc[year, 'Annual births'] - df_natural.loc[year, 'Natural increase']\n",
    "\n",
    "\n",
    "for col in df_natural.columns:\n",
    "    df_natural[col] = df_natural[col].round()    \n",
    "    \n",
    "        \n",
    "    # Save and check that imputation worked\n",
    "df_natural.to_csv('../data/11_vit_natural.csv')\n",
    "df_natural.head(22)\n"
   ]
  },
  {
   "cell_type": "code",
   "execution_count": null,
   "id": "4538700a",
   "metadata": {},
   "outputs": [],
   "source": [
    "\n",
    "\n",
    "# Filtering the DataFrame to focus only on 'Immigrants', 'Emigrants', and 'Net migration'\n",
    "df_not_natural = df[df['component'].isin(['Immigrants', 'Emigrants', 'Net migration'])]\n",
    "\n",
    "# Pivot the DataFrame for easier manipulation\n",
    "df_migration = df_not_natural.pivot(index='year', columns='component', values='kvalue')\n",
    "\n",
    "# Identify the earliest year where both 'Immigrants' and 'Emigrants' data are available\n",
    "first_complete_year_migration = df_migration.dropna().index.min()\n",
    "\n",
    "# Fill missing 'Immigrants' and 'Emigrants' backwards using the 'Net migration'\n",
    "for year in range(first_complete_year_migration - 1, df_migration.index.min() - 1, -1):\n",
    "    df_migration.loc[year, 'Immigrants'] = df_migration.loc[year + 1, 'Immigrants'] - (df_migration.loc[year, 'Net migration'] - df_migration.loc[year + 1, 'Net migration'])\n",
    "    df_migration.loc[year, 'Emigrants'] = df_migration.loc[year, 'Immigrants'] - df_migration.loc[year, 'Net migration']\n",
    "\n",
    "    \n",
    "for col in df_migration.columns:\n",
    "    df_migration[col] = df_migration[col].round()     \n",
    "    \n",
    "# Save and display that \n",
    "df_migration.to_csv('../data/12_vital_migration.csv')\n",
    "df_migration.head(68)\n"
   ]
  },
  {
   "cell_type": "code",
   "execution_count": null,
   "id": "e06e55fa",
   "metadata": {},
   "outputs": [],
   "source": [
    "# Merging the two pivoted dataframes: df_pivot (births, deaths, natural increase) and df_migration_pivot (immigration data)\n",
    "change_df = pd.merge(df_natural, df_migration, left_index=True, right_index=True, how='outer')\n",
    "\n",
    "# Displaying the merged dataframe\n",
    "change_df.to_csv('../data/13_vit_change.csv', index=True)\n",
    "change_df.head(68)\n"
   ]
  },
  {
   "cell_type": "code",
   "execution_count": null,
   "id": "47463d84",
   "metadata": {},
   "outputs": [],
   "source": [
    "# Rounding all values in change_df\n",
    "for col in change_df.columns:\n",
    "    change_df[col] = change_df[col].round()\n",
    "\n",
    "# Displaying the first few rows after rounding\n",
    "print(change_df.head())\n",
    "\n",
    "df.to_csv('../data/14_vit_change_clean.csv', index=False)"
   ]
  },
  {
   "cell_type": "code",
   "execution_count": null,
   "id": "32813b4c",
   "metadata": {},
   "outputs": [],
   "source": [
    "change_df.isna().sum()"
   ]
  },
  {
   "cell_type": "markdown",
   "id": "3266f139",
   "metadata": {},
   "source": [
    "The strategy above  was to estimate 'Annual Births' and 'Annual Deaths' based on the 'Natural Increase' (which is Births - Deaths), and the patterns observed in the available data for years where these values are known. Here's a basic approach to this:"
   ]
  },
  {
   "cell_type": "code",
   "execution_count": null,
   "id": "3f80944c",
   "metadata": {},
   "outputs": [],
   "source": [
    "change_df.columns"
   ]
  },
  {
   "cell_type": "markdown",
   "id": "6fdd57e5",
   "metadata": {},
   "source": [
    "### Vital Events\n",
    "- Annual deaths have been, in the main, rising  since 2005, while there's been a sharp decline in annual births since a peak in 2010."
   ]
  },
  {
   "cell_type": "code",
   "execution_count": null,
   "id": "a363ed3b",
   "metadata": {},
   "outputs": [],
   "source": [
    "\n",
    "# string = 'vital changes'\n",
    "\n",
    "plt.figure(figsize=(12, 12))\n",
    "plt.plot(change_df.index, change_df['Annual births'], marker='o', label='Annual births')\n",
    "plt.plot(change_df.index, change_df['Annual deaths'], marker='o', label='Annual deaths')\n",
    "plt.plot(change_df.index, change_df['Natural increase'], marker='o', label='Natural increase')\n",
    "plt.title('Vital Events Over Time')\n",
    "plt.xlabel('Year')\n",
    "plt.ylabel('Values (000s)')\n",
    "plt.legend()\n",
    "plt.grid(True)\n",
    "\n",
    "# Save the plot before displaying it\n",
    "plt.savefig('../images/12_vit_vital_events.png')\n",
    "\n",
    "# Then display the plot\n",
    "plt.show()"
   ]
  },
  {
   "cell_type": "code",
   "execution_count": null,
   "id": "e56b18ef",
   "metadata": {},
   "outputs": [],
   "source": [
    "string = 'Annual births'\n",
    "\n",
    "input_date = 2004\n",
    "\n",
    "\n",
    "# Filter the data for the desired years\n",
    "filtered_df = change_df[change_df.index >= input_date]\n",
    "\n",
    "# Create a figure with a specified size\n",
    "plt.figure(figsize=(12, 9))\n",
    "\n",
    "# Plot the data with markers and labels\n",
    "plt.plot(filtered_df.index, filtered_df[string], marker='o', label=string)\n",
    "\n",
    "# Set the title, axis labels, and legend\n",
    "title = f'This plot illustrates the trend of {string} Over Time since {input_date}'\n",
    "plt.title(title)\n",
    "plt.xlabel('Year')\n",
    "plt.ylabel(string)\n",
    "\n",
    "# Customize the legend label\n",
    "plt.legend([string])\n",
    "\n",
    "# Add a grid and a LaTeX-style caption with variables\n",
    "plt.grid(True)\n",
    "caption = f\"This plot illustrates the trend of {string} over time since {input_date}.\"\n",
    "plt.figtext(0.5, 0.01, caption, wrap=True, horizontalalignment='center', fontsize=10)\n",
    "\n",
    "# Print the title as text to speed up report writing\n",
    "print(title)\n",
    "\n",
    "# Save the plot before displaying it\n",
    "plt.savefig(f'../images/13_vit_{string}_since_{input_date}.png')\n",
    "\n",
    "\n",
    "# Display the plot\n",
    "plt.show()"
   ]
  },
  {
   "cell_type": "code",
   "execution_count": null,
   "id": "de7150d5",
   "metadata": {},
   "outputs": [],
   "source": [
    "# Define the string and input date\n",
    "string = 'Annual deaths'\n",
    "input_date = 2004\n",
    "\n",
    "\n",
    "# Filter the data for the desired years\n",
    "filtered_df = change_df[change_df.index >= input_date]\n",
    "\n",
    "# Create a figure with a specified size\n",
    "plt.figure(figsize=(12, 9))\n",
    "\n",
    "# Plot the data with markers and labels\n",
    "plt.plot(filtered_df.index, filtered_df[string], marker='o',color='orange', label=string)\n",
    "\n",
    "# Set the title, axis labels, and legend\n",
    "title = f'This plot illustrates the trend of {string} Over Time since {input_date}'\n",
    "plt.title(title)\n",
    "plt.xlabel('Year')\n",
    "plt.ylabel(string)\n",
    "\n",
    "# Customize the legend label\n",
    "plt.legend([string])\n",
    "\n",
    "# Add a grid and a LaTeX-style caption with variables\n",
    "plt.grid(True)\n",
    "caption = f\"This plot illustrates the trend of {string} over time since {input_date}.\"\n",
    "plt.figtext(0.5, 0.01, caption, wrap=True, horizontalalignment='center', fontsize=10)\n",
    "\n",
    "# Print the title as text to speed up report writing\n",
    "print(title)\n",
    "\n",
    "# Save the plot before displaying it\n",
    "plt.savefig(f'../images/14_vit_{string}_since_{input_date}.png')\n",
    "\n",
    "# Display the plot\n",
    "plt.show()"
   ]
  },
  {
   "cell_type": "code",
   "execution_count": null,
   "id": "82b5ba47",
   "metadata": {},
   "outputs": [],
   "source": [
    "\n",
    "# Define the string and input date\n",
    "string = 'Natural increase'\n",
    "input_date = 2000\n",
    "\n",
    "\n",
    "\n",
    "# Filter the data for the desired years\n",
    "filtered_df = change_df[change_df.index >= input_date]\n",
    "\n",
    "# Create a figure with a specified size\n",
    "plt.figure(figsize=(12, 9))\n",
    "\n",
    "# Plot the data with markers and labels\n",
    "plt.plot(filtered_df.index, filtered_df[string], marker='o', label=string, color='green')\n",
    "\n",
    "# Set the title, axis labels, and legend\n",
    "title = f'This plot illustrates the trend of {string} Over Time since {input_date}'\n",
    "plt.title(title)\n",
    "plt.xlabel('Year')\n",
    "plt.ylabel(string)\n",
    "\n",
    "# Customize the legend label\n",
    "plt.legend([string])\n",
    "\n",
    "# Add a grid and a LaTeX-style caption with variables\n",
    "plt.grid(True)\n",
    "caption = f\"This plot illustrates the trend of {string} over time since {input_date}.\"\n",
    "plt.figtext(0.5, 0.01, caption, wrap=True, horizontalalignment='center', fontsize=10)\n",
    "\n",
    "# Print the title as text to speed up report writing\n",
    "print(title)\n",
    "\n",
    "# Save the plot before displaying it\n",
    "plt.savefig(f'../images/15_vit_{string}_since_{input_date}.png')\n",
    "\n",
    "\n",
    "# Display the plot\n",
    "plt.show()\n"
   ]
  },
  {
   "cell_type": "markdown",
   "id": "ee973270",
   "metadata": {},
   "source": [
    "### Migration Patterns\n",
    "- Immigration dropped in 2020, put showed a substantial increases since, especially from the rest of the world.\n"
   ]
  },
  {
   "cell_type": "code",
   "execution_count": null,
   "id": "8b90da3c",
   "metadata": {
    "scrolled": false
   },
   "outputs": [],
   "source": [
    "import matplotlib.pyplot as plt\n",
    "\n",
    "# Assuming change_df is your DataFrame\n",
    "# Plotting 'Emigrants', 'Immigrants', 'Net migration' on one graph with specified colors\n",
    "plt.figure(figsize=(12, 9))\n",
    "plt.plot(change_df.index, change_df['Emigrants'], marker='o', label='Emigrants', color='red')\n",
    "plt.plot(change_df.index, change_df['Immigrants'], marker='o', label='Immigrants', color='purple')\n",
    "plt.plot(change_df.index, change_df['Net migration'], marker='o', label='Net migration', color='brown')\n",
    "plt.title('Emigrants, Immigrants, Net migration since 1950')\n",
    "plt.xlabel('Year')\n",
    "plt.ylabel('Values')\n",
    "plt.legend()\n",
    "plt.grid(True)\n",
    "\n",
    "# Save the plot before displaying it\n",
    "plt.savefig(f'../images/14_flow_since_1950.png')\n",
    "\n",
    "plt.show()\n"
   ]
  },
  {
   "cell_type": "code",
   "execution_count": null,
   "id": "303130f2",
   "metadata": {},
   "outputs": [],
   "source": [
    "# strings = ['Annual births', 'Annual deaths', 'Natural increase', 'Emigrants', 'Immigrants', 'Net migration']"
   ]
  },
  {
   "cell_type": "code",
   "execution_count": null,
   "id": "719f6c27",
   "metadata": {},
   "outputs": [],
   "source": [
    "\n",
    "# Define the string and input date\n",
    "string = 'Emigrants'\n",
    "input_date = 2000\n",
    "\n",
    "\n",
    "\n",
    "\n",
    "# Filter the data for the desired years\n",
    "filtered_df = change_df[change_df.index >= input_date]\n",
    "\n",
    "# Create a figure with a specified size\n",
    "plt.figure(figsize=(12, 9))\n",
    "\n",
    "# Plot the data with markers and labels\n",
    "plt.plot(filtered_df.index, filtered_df[string], marker='o', label=string,color='red')\n",
    "\n",
    "# Set the title, axis labels, and legend\n",
    "title = f'This plot illustrates the trend of {string} Over Time since {input_date}'\n",
    "plt.title(title)\n",
    "plt.xlabel('Year')\n",
    "plt.ylabel(string)\n",
    "\n",
    "# Customize the legend label\n",
    "plt.legend([string])\n",
    "\n",
    "# Add a grid and a LaTeX-style caption with variables\n",
    "plt.grid(True)\n",
    "caption = f\"This plot illustrates the trend of {string} over time since {input_date}.\"\n",
    "plt.figtext(0.5, 0.01, caption, wrap=True, horizontalalignment='center', fontsize=10)\n",
    "\n",
    "# Print the title as text to speed up report writing\n",
    "print(title)\n",
    "\n",
    "# Save the plot before displaying it\n",
    "plt.savefig(f'../images/16_vit_{string}_since_{input_date}.png')\n",
    "\n",
    "# Display the plot\n",
    "plt.show()\n"
   ]
  },
  {
   "cell_type": "code",
   "execution_count": null,
   "id": "f8d94119",
   "metadata": {},
   "outputs": [],
   "source": [
    "\n",
    "\n",
    "# Define the string and input date\n",
    "string = 'Immigrants'\n",
    "input_date = 2000\n",
    "\n",
    "\n",
    "\n",
    "# Filter the data for the desired years\n",
    "filtered_df = change_df[change_df.index >= input_date]\n",
    "\n",
    "# Create a figure with a specified size\n",
    "plt.figure(figsize=(12, 9))\n",
    "\n",
    "# Plot the data with markers and labels\n",
    "plt.plot(filtered_df.index, filtered_df[string], marker='o', label=string,color='purple')\n",
    "\n",
    "# Set the title, axis labels, and legend\n",
    "title = f'This plot illustrates the trend of {string} Over Time since {input_date}'\n",
    "plt.title(title)\n",
    "plt.xlabel('Year')\n",
    "plt.ylabel(string)\n",
    "\n",
    "# Customize the legend label\n",
    "plt.legend([string])\n",
    "\n",
    "# Add a grid and a LaTeX-style caption with variables\n",
    "plt.grid(True)\n",
    "caption = f\"This plot illustrates the trend of {string} over time since {input_date}.\"\n",
    "plt.figtext(0.5, 0.01, caption, wrap=True, horizontalalignment='center', fontsize=10)\n",
    "\n",
    "# Print the title as text to speed up report writing\n",
    "print(title)\n",
    "\n",
    "# Save the plot before displaying it\n",
    "plt.savefig(f'../images/17_vit_{string}_since_{input_date}.png')\n",
    "\n",
    "# Display the plot\n",
    "plt.show()\n"
   ]
  },
  {
   "cell_type": "code",
   "execution_count": null,
   "id": "9f3db0a0",
   "metadata": {
    "scrolled": false
   },
   "outputs": [],
   "source": [
    "\n",
    "# Define the string and input date\n",
    "string = 'Net migration'\n",
    "input_date = 2000\n",
    "\n",
    "\n",
    "\n",
    "# Filter the data for the desired years\n",
    "filtered_df = change_df[change_df.index >= input_date]\n",
    "\n",
    "# Create a figure with a specified size\n",
    "plt.figure(figsize=(12, 9))\n",
    "\n",
    "# Plot the data with markers and labels\n",
    "plt.plot(filtered_df.index, filtered_df[string], marker='o', label=string,color='brown')\n",
    "\n",
    "\n",
    "# Set the title, axis labels, and legend\n",
    "title = f'This plot illustrates the trend of {string} Over Time since {input_date}'\n",
    "plt.title(title)\n",
    "plt.xlabel('Year')\n",
    "plt.ylabel(string)\n",
    "\n",
    "# Customize the legend label\n",
    "plt.legend([string])\n",
    "\n",
    "# Add a grid and a LaTeX-style caption with variables\n",
    "plt.grid(True)\n",
    "caption = f\"This plot illustrates the trend of {string} over time since {input_date}.\"\n",
    "plt.figtext(0.5, 0.01, caption, wrap=True, horizontalalignment='center', fontsize=10)\n",
    "\n",
    "# Print the title as text to speed up report writing\n",
    "print(title)\n",
    "\n",
    "# Save the plot before displaying it\n",
    "plt.savefig(f'../images/18_vit_{string}_since_{input_date}.png')\n",
    "\n",
    "\n",
    "# Display the plot\n",
    "plt.show()\n"
   ]
  },
  {
   "cell_type": "markdown",
   "id": "671662f2",
   "metadata": {},
   "source": [
    "### Ongoing research\n",
    "These mortality, fertility, and migration figures will be merged with population and other data from  [Central Statistics Office in Ireland  population of Ireland series.](https://data.cso.ie/product/pme)"
   ]
  },
  {
   "cell_type": "code",
   "execution_count": null,
   "id": "689d649a",
   "metadata": {},
   "outputs": [],
   "source": []
  }
 ],
 "metadata": {
  "kernelspec": {
   "display_name": "Python 3 (ipykernel)",
   "language": "python",
   "name": "python3"
  },
  "language_info": {
   "codemirror_mode": {
    "name": "ipython",
    "version": 3
   },
   "file_extension": ".py",
   "mimetype": "text/x-python",
   "name": "python",
   "nbconvert_exporter": "python",
   "pygments_lexer": "ipython3",
   "version": "3.11.4"
  },
  "toc": {
   "base_numbering": 1,
   "nav_menu": {},
   "number_sections": true,
   "sideBar": true,
   "skip_h1_title": true,
   "title_cell": "Table of Contents",
   "title_sidebar": "Contents",
   "toc_cell": false,
   "toc_position": {
    "height": "calc(100% - 180px)",
    "left": "10px",
    "top": "150px",
    "width": "288px"
   },
   "toc_section_display": true,
   "toc_window_display": true
  }
 },
 "nbformat": 4,
 "nbformat_minor": 5
}
