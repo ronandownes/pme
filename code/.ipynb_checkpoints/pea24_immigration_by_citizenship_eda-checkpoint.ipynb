{
 "cells": [
  {
   "cell_type": "markdown",
   "id": "a769e2f4",
   "metadata": {},
   "source": [
    "\n",
    "# Exploratory Data Analysis (EDA)  of   PEA24- Estimated Immigration  by  Citizenship (Persons in April)\n",
    "\n",
    "\n",
    "Notebook provides an exploratory data analysis (EDA) of the PEA24  The complete series of datasets can be found at\n",
    "[Central Statistics Office in Ireland  population of Ireland,](https://data.cso.ie/product/pme)\n",
    "\n",
    "| Code   | Description               | Status |\n",
    "| ------ | ------------------------- | ------ |\n",
    "| PEA01  | Population Estimates      | EDAed       |\n",
    "| PEA03  | Flow                      |        |\n",
    "| PEA04  | Region                    |        |\n",
    "| PEA11  | Single                    |        |\n",
    "| PEA15  | Component                 | EDAed       |\n",
    "| PEA18  | Origin/Destination        |        |\n",
    "| PEA23  | Citizenship Emigration    |   EDAed      |\n",
    "| PEA24  | Citizenship Immigration   |   EDAed      |\n",
    "| PEA25  | Citizenship Population    |    EDAed     |\n",
    "\n",
    "Click on the image to explore reconfigure the data at source.\n",
    "\n",
    "<a href=\"https://data.cso.ie/table/PEA24\">\n",
    "    <img src=\"../screens/pea24.png\" alt=\"Example Image\" width=\"500\"/>\n",
    "</a>\n",
    "\n",
    "\n"
   ]
  },
  {
   "cell_type": "markdown",
   "id": "1cb3b5e2",
   "metadata": {},
   "source": [
    "\n",
    "## Loading  Libraries and Functions\n",
    "\n"
   ]
  },
  {
   "cell_type": "code",
   "execution_count": 56,
   "id": "d84b0b6c",
   "metadata": {},
   "outputs": [],
   "source": [
    "import pandas as pd\n",
    "import altair as alt\n",
    "# Enable the VegaFusion data transformer\n",
    "alt.data_transformers.enable('vegafusion')\n",
    "import matplotlib.pyplot as plt\n",
    "# Adjusting default font sizes for all plots\n",
    "plt.rcParams['axes.titlesize'] = 16   # For title\n",
    "plt.rcParams['axes.labelsize'] = 16   # For x and y labels\n",
    "plt.rcParams['xtick.labelsize'] = 12  # For x-axis tick labels\n",
    "plt.rcParams['ytick.labelsize'] = 12  # For y-axis tick labels\n",
    "import seaborn as sns\n",
    "import os\n",
    "import warnings\n",
    "# Suppress all warnings\n",
    "warnings.filterwarnings('ignore')\n",
    "\n",
    "%matplotlib inline\n"
   ]
  },
  {
   "cell_type": "markdown",
   "id": "b6e6f62b",
   "metadata": {},
   "source": [
    "## Loading  PEA24 Immigration by Citizenship raw"
   ]
  },
  {
   "cell_type": "code",
   "execution_count": 57,
   "id": "5837ee0b",
   "metadata": {},
   "outputs": [],
   "source": [
    "# Load the dataset\n",
    "file_path = '../raw/PEA24.csv'\n",
    "df = pd.read_csv(file_path)"
   ]
  },
  {
   "cell_type": "code",
   "execution_count": 58,
   "id": "f32bec0d",
   "metadata": {
    "scrolled": false
   },
   "outputs": [
    {
     "data": {
      "text/html": [
       "<div>\n",
       "<style scoped>\n",
       "    .dataframe tbody tr th:only-of-type {\n",
       "        vertical-align: middle;\n",
       "    }\n",
       "\n",
       "    .dataframe tbody tr th {\n",
       "        vertical-align: top;\n",
       "    }\n",
       "\n",
       "    .dataframe thead th {\n",
       "        text-align: right;\n",
       "    }\n",
       "</style>\n",
       "<table border=\"1\" class=\"dataframe\">\n",
       "  <thead>\n",
       "    <tr style=\"text-align: right;\">\n",
       "      <th></th>\n",
       "      <th>Statistic Label</th>\n",
       "      <th>Year</th>\n",
       "      <th>Sex</th>\n",
       "      <th>Citizenship</th>\n",
       "      <th>UNIT</th>\n",
       "      <th>VALUE</th>\n",
       "    </tr>\n",
       "  </thead>\n",
       "  <tbody>\n",
       "    <tr>\n",
       "      <th>0</th>\n",
       "      <td>Estimated Immigration (Persons in April)</td>\n",
       "      <td>1996</td>\n",
       "      <td>Both sexes</td>\n",
       "      <td>All Countries</td>\n",
       "      <td>Thousand</td>\n",
       "      <td>39.2</td>\n",
       "    </tr>\n",
       "    <tr>\n",
       "      <th>1</th>\n",
       "      <td>Estimated Immigration (Persons in April)</td>\n",
       "      <td>1996</td>\n",
       "      <td>Both sexes</td>\n",
       "      <td>EU14 excl Irl (countries in the EU pre 2004 ex...</td>\n",
       "      <td>Thousand</td>\n",
       "      <td>5.0</td>\n",
       "    </tr>\n",
       "    <tr>\n",
       "      <th>2</th>\n",
       "      <td>Estimated Immigration (Persons in April)</td>\n",
       "      <td>1996</td>\n",
       "      <td>Both sexes</td>\n",
       "      <td>EU15 to EU27 (accession countries joined post ...</td>\n",
       "      <td>Thousand</td>\n",
       "      <td>NaN</td>\n",
       "    </tr>\n",
       "    <tr>\n",
       "      <th>3</th>\n",
       "      <td>Estimated Immigration (Persons in April)</td>\n",
       "      <td>1996</td>\n",
       "      <td>Both sexes</td>\n",
       "      <td>United Kingdom</td>\n",
       "      <td>Thousand</td>\n",
       "      <td>8.3</td>\n",
       "    </tr>\n",
       "    <tr>\n",
       "      <th>4</th>\n",
       "      <td>Estimated Immigration (Persons in April)</td>\n",
       "      <td>1996</td>\n",
       "      <td>Both sexes</td>\n",
       "      <td>Ireland</td>\n",
       "      <td>Thousand</td>\n",
       "      <td>17.7</td>\n",
       "    </tr>\n",
       "  </tbody>\n",
       "</table>\n",
       "</div>"
      ],
      "text/plain": [
       "                            Statistic Label  Year         Sex  \\\n",
       "0  Estimated Immigration (Persons in April)  1996  Both sexes   \n",
       "1  Estimated Immigration (Persons in April)  1996  Both sexes   \n",
       "2  Estimated Immigration (Persons in April)  1996  Both sexes   \n",
       "3  Estimated Immigration (Persons in April)  1996  Both sexes   \n",
       "4  Estimated Immigration (Persons in April)  1996  Both sexes   \n",
       "\n",
       "                                         Citizenship      UNIT  VALUE  \n",
       "0                                      All Countries  Thousand   39.2  \n",
       "1  EU14 excl Irl (countries in the EU pre 2004 ex...  Thousand    5.0  \n",
       "2  EU15 to EU27 (accession countries joined post ...  Thousand    NaN  \n",
       "3                                     United Kingdom  Thousand    8.3  \n",
       "4                                            Ireland  Thousand   17.7  "
      ]
     },
     "execution_count": 58,
     "metadata": {},
     "output_type": "execute_result"
    }
   ],
   "source": [
    "# Preview top 5 rows\n",
    "df.head() # Note examples of missing population change data in top few rows"
   ]
  },
  {
   "cell_type": "code",
   "execution_count": 59,
   "id": "ae0ecfcd",
   "metadata": {},
   "outputs": [
    {
     "data": {
      "text/plain": [
       "Statistic Label      1\n",
       "Year                28\n",
       "Sex                  3\n",
       "Citizenship          6\n",
       "UNIT                 1\n",
       "VALUE              258\n",
       "dtype: int64"
      ]
     },
     "execution_count": 59,
     "metadata": {},
     "output_type": "execute_result"
    }
   ],
   "source": [
    "#  Unique Values\n",
    "df.nunique()"
   ]
  },
  {
   "cell_type": "code",
   "execution_count": 60,
   "id": "0ba1f2c9",
   "metadata": {},
   "outputs": [
    {
     "data": {
      "text/plain": [
       "{'Statistic Label': array(['Estimated Immigration (Persons in April)'], dtype=object),\n",
       " 'Sex': array(['Both sexes', 'Male', 'Female'], dtype=object),\n",
       " 'Citizenship': array(['All Countries',\n",
       "        'EU14 excl Irl (countries in the EU pre 2004 excluding UK & Ireland)',\n",
       "        'EU15 to EU27 (accession countries joined post 2004)',\n",
       "        'United Kingdom', 'Ireland',\n",
       "        'All countries excluding Ireland,United Kingdom and EU272020'],\n",
       "       dtype=object),\n",
       " 'UNIT': array(['Thousand'], dtype=object)}"
      ]
     },
     "execution_count": 60,
     "metadata": {},
     "output_type": "execute_result"
    }
   ],
   "source": [
    "# Unique values in non-numeric columns\n",
    "{col: df[col].unique() for col in df.select_dtypes(include='object').columns}"
   ]
  },
  {
   "cell_type": "markdown",
   "id": "e9401b81",
   "metadata": {},
   "source": [
    " ## Duplication check PEA24 Immigration by Citizenship\n",
    " There are no duplicated rows in dataframe df_long."
   ]
  },
  {
   "cell_type": "code",
   "execution_count": 61,
   "id": "65f3ba21",
   "metadata": {},
   "outputs": [],
   "source": [
    "# duplicates = df.duplicated()\n",
    "# any_duplicates = duplicates.any()\n",
    "# # Print result based on the condition\n",
    "# if any_duplicates:\n",
    "#     print(\"There are duplicated rows in dataframe df_long.\")\n",
    "# else:\n",
    "#     print(\"There are no duplicated rows in dataframe df_long.\")"
   ]
  },
  {
   "cell_type": "code",
   "execution_count": 62,
   "id": "90a1362a",
   "metadata": {},
   "outputs": [
    {
     "data": {
      "text/plain": [
       "Index(['Statistic Label', 'Year', 'Sex', 'Citizenship', 'UNIT', 'VALUE'], dtype='object')"
      ]
     },
     "execution_count": 62,
     "metadata": {},
     "output_type": "execute_result"
    }
   ],
   "source": [
    "df.columns"
   ]
  },
  {
   "cell_type": "markdown",
   "id": "3f877b26",
   "metadata": {},
   "source": [
    "## Long Dataframe PEA24 Immigration by Citizenship housekeeping "
   ]
  },
  {
   "cell_type": "code",
   "execution_count": 63,
   "id": "d9304582",
   "metadata": {
    "scrolled": false
   },
   "outputs": [
    {
     "data": {
      "text/html": [
       "<div>\n",
       "<style scoped>\n",
       "    .dataframe tbody tr th:only-of-type {\n",
       "        vertical-align: middle;\n",
       "    }\n",
       "\n",
       "    .dataframe tbody tr th {\n",
       "        vertical-align: top;\n",
       "    }\n",
       "\n",
       "    .dataframe thead th {\n",
       "        text-align: right;\n",
       "    }\n",
       "</style>\n",
       "<table border=\"1\" class=\"dataframe\">\n",
       "  <thead>\n",
       "    <tr style=\"text-align: right;\">\n",
       "      <th></th>\n",
       "      <th>year</th>\n",
       "      <th>sex</th>\n",
       "      <th>citizenship</th>\n",
       "      <th>value</th>\n",
       "    </tr>\n",
       "  </thead>\n",
       "  <tbody>\n",
       "    <tr>\n",
       "      <th>0</th>\n",
       "      <td>1996</td>\n",
       "      <td>Both sexes</td>\n",
       "      <td>All Countries</td>\n",
       "      <td>39.2</td>\n",
       "    </tr>\n",
       "    <tr>\n",
       "      <th>1</th>\n",
       "      <td>1996</td>\n",
       "      <td>Both sexes</td>\n",
       "      <td>EU14 excl Irl (countries in the EU pre 2004 ex...</td>\n",
       "      <td>5.0</td>\n",
       "    </tr>\n",
       "    <tr>\n",
       "      <th>2</th>\n",
       "      <td>1996</td>\n",
       "      <td>Both sexes</td>\n",
       "      <td>EU15 to EU27 (accession countries joined post ...</td>\n",
       "      <td>NaN</td>\n",
       "    </tr>\n",
       "    <tr>\n",
       "      <th>3</th>\n",
       "      <td>1996</td>\n",
       "      <td>Both sexes</td>\n",
       "      <td>United Kingdom</td>\n",
       "      <td>8.3</td>\n",
       "    </tr>\n",
       "    <tr>\n",
       "      <th>4</th>\n",
       "      <td>1996</td>\n",
       "      <td>Both sexes</td>\n",
       "      <td>Ireland</td>\n",
       "      <td>17.7</td>\n",
       "    </tr>\n",
       "    <tr>\n",
       "      <th>...</th>\n",
       "      <td>...</td>\n",
       "      <td>...</td>\n",
       "      <td>...</td>\n",
       "      <td>...</td>\n",
       "    </tr>\n",
       "    <tr>\n",
       "      <th>499</th>\n",
       "      <td>2023</td>\n",
       "      <td>Female</td>\n",
       "      <td>EU14 excl Irl (countries in the EU pre 2004 ex...</td>\n",
       "      <td>7.7</td>\n",
       "    </tr>\n",
       "    <tr>\n",
       "      <th>500</th>\n",
       "      <td>2023</td>\n",
       "      <td>Female</td>\n",
       "      <td>EU15 to EU27 (accession countries joined post ...</td>\n",
       "      <td>5.8</td>\n",
       "    </tr>\n",
       "    <tr>\n",
       "      <th>501</th>\n",
       "      <td>2023</td>\n",
       "      <td>Female</td>\n",
       "      <td>United Kingdom</td>\n",
       "      <td>2.5</td>\n",
       "    </tr>\n",
       "    <tr>\n",
       "      <th>502</th>\n",
       "      <td>2023</td>\n",
       "      <td>Female</td>\n",
       "      <td>Ireland</td>\n",
       "      <td>14.3</td>\n",
       "    </tr>\n",
       "    <tr>\n",
       "      <th>503</th>\n",
       "      <td>2023</td>\n",
       "      <td>Female</td>\n",
       "      <td>All countries excluding Ireland,United Kingdom...</td>\n",
       "      <td>45.3</td>\n",
       "    </tr>\n",
       "  </tbody>\n",
       "</table>\n",
       "<p>504 rows × 4 columns</p>\n",
       "</div>"
      ],
      "text/plain": [
       "     year         sex                                        citizenship  \\\n",
       "0    1996  Both sexes                                      All Countries   \n",
       "1    1996  Both sexes  EU14 excl Irl (countries in the EU pre 2004 ex...   \n",
       "2    1996  Both sexes  EU15 to EU27 (accession countries joined post ...   \n",
       "3    1996  Both sexes                                     United Kingdom   \n",
       "4    1996  Both sexes                                            Ireland   \n",
       "..    ...         ...                                                ...   \n",
       "499  2023      Female  EU14 excl Irl (countries in the EU pre 2004 ex...   \n",
       "500  2023      Female  EU15 to EU27 (accession countries joined post ...   \n",
       "501  2023      Female                                     United Kingdom   \n",
       "502  2023      Female                                            Ireland   \n",
       "503  2023      Female  All countries excluding Ireland,United Kingdom...   \n",
       "\n",
       "     value  \n",
       "0     39.2  \n",
       "1      5.0  \n",
       "2      NaN  \n",
       "3      8.3  \n",
       "4     17.7  \n",
       "..     ...  \n",
       "499    7.7  \n",
       "500    5.8  \n",
       "501    2.5  \n",
       "502   14.3  \n",
       "503   45.3  \n",
       "\n",
       "[504 rows x 4 columns]"
      ]
     },
     "execution_count": 63,
     "metadata": {},
     "output_type": "execute_result"
    }
   ],
   "source": [
    "# Check if the columns 'STATISTIC Label' and 'UNIT' exist in the DataFrame\n",
    "columns_to_drop = [col for col in ['Statistic Label', 'UNIT'] if col in df.columns]\n",
    "\n",
    "# Drop the columns if they exist\n",
    "if columns_to_drop:\n",
    "    df = df.drop(columns_to_drop, axis=1)\n",
    "\n",
    "\n",
    "# Renaming the remaining columns according to pythonic conventions\n",
    "df = df.rename(columns={\n",
    "    'Year': 'year',\n",
    "    'Sex': 'sex',\n",
    "    'Citizenship':'citizenship',\n",
    "    'Origin or Destination': 'endpoint',\n",
    "    'VALUE': 'value'\n",
    "})\n",
    "#preview changes\n",
    "df\n"
   ]
  },
  {
   "cell_type": "code",
   "execution_count": 64,
   "id": "07b793ff",
   "metadata": {},
   "outputs": [
    {
     "data": {
      "text/plain": [
       "{'sex': array(['Both sexes', 'Male', 'Female'], dtype=object),\n",
       " 'citizenship': array(['All Countries',\n",
       "        'EU14 excl Irl (countries in the EU pre 2004 excluding UK & Ireland)',\n",
       "        'EU15 to EU27 (accession countries joined post 2004)',\n",
       "        'United Kingdom', 'Ireland',\n",
       "        'All countries excluding Ireland,United Kingdom and EU272020'],\n",
       "       dtype=object)}"
      ]
     },
     "execution_count": 64,
     "metadata": {},
     "output_type": "execute_result"
    }
   ],
   "source": [
    "# Unique values in non-numeric columns\n",
    "{col: df[col].unique() for col in df.select_dtypes(include='object').columns}"
   ]
  },
  {
   "cell_type": "code",
   "execution_count": 65,
   "id": "c0bd2876",
   "metadata": {},
   "outputs": [],
   "source": [
    "\n",
    "# Save the clean DataFrame to a new CSV file\n",
    "df.to_csv('../data/long_PEA24 Immigration by Citizenship.csv', index=True)"
   ]
  },
  {
   "cell_type": "code",
   "execution_count": 66,
   "id": "e6688f9c",
   "metadata": {},
   "outputs": [
    {
     "data": {
      "text/plain": [
       "Index(['year', 'sex', 'citizenship', 'value'], dtype='object')"
      ]
     },
     "execution_count": 66,
     "metadata": {},
     "output_type": "execute_result"
    }
   ],
   "source": [
    "df.columns"
   ]
  },
  {
   "cell_type": "code",
   "execution_count": 67,
   "id": "3ee8e4ce",
   "metadata": {},
   "outputs": [
    {
     "data": {
      "text/plain": [
       "Index(['index', 'year', 'sex', 'All Countries',\n",
       "       'All countries excluding Ireland,United Kingdom and EU272020',\n",
       "       'EU14 excl Irl (countries in the EU pre 2004 excluding UK & Ireland)',\n",
       "       'EU15 to EU27 (accession countries joined post 2004)', 'Ireland',\n",
       "       'United Kingdom'],\n",
       "      dtype='object', name='citizenship')"
      ]
     },
     "execution_count": 67,
     "metadata": {},
     "output_type": "execute_result"
    }
   ],
   "source": [
    "# Pivoting the data with 'country' as columns and 'year', 'sex', 'endpoint' as index\n",
    "df_pivot = df.pivot_table(index=['year', 'sex'], columns='citizenship', values='value', aggfunc='first')\n",
    "#Reset index\n",
    "df_pivot.reset_index(inplace=True)\n",
    "# Save the clean DataFrame to a new CSV file\n",
    "df_pivot.to_csv('../data/country-pivot.csv', index=True)\n",
    "# Resetting the index to use 'year' in the plot\n",
    "df_pivot = df_pivot.reset_index()\n",
    "# Displaying the first few rows of the pivoted data\n",
    "df_pivot.columns"
   ]
  },
  {
   "cell_type": "code",
   "execution_count": 68,
   "id": "924727d1",
   "metadata": {},
   "outputs": [
    {
     "data": {
      "text/plain": [
       "Index(['index', 'year', 'sex', 'All Countries',\n",
       "       'All countries excluding Ireland,United Kingdom and EU272020',\n",
       "       'EU14 excl Irl (countries in the EU pre 2004 excluding UK & Ireland)',\n",
       "       'EU15 to EU27 (accession countries joined post 2004)', 'Ireland',\n",
       "       'United Kingdom'],\n",
       "      dtype='object', name='citizenship')"
      ]
     },
     "execution_count": 68,
     "metadata": {},
     "output_type": "execute_result"
    }
   ],
   "source": [
    "df_pivot.columns"
   ]
  },
  {
   "cell_type": "code",
   "execution_count": 69,
   "id": "bf21dabe",
   "metadata": {},
   "outputs": [
    {
     "data": {
      "text/html": [
       "<div>\n",
       "<style scoped>\n",
       "    .dataframe tbody tr th:only-of-type {\n",
       "        vertical-align: middle;\n",
       "    }\n",
       "\n",
       "    .dataframe tbody tr th {\n",
       "        vertical-align: top;\n",
       "    }\n",
       "\n",
       "    .dataframe thead th {\n",
       "        text-align: right;\n",
       "    }\n",
       "</style>\n",
       "<table border=\"1\" class=\"dataframe\">\n",
       "  <thead>\n",
       "    <tr style=\"text-align: right;\">\n",
       "      <th>citizenship</th>\n",
       "      <th>index</th>\n",
       "      <th>year</th>\n",
       "      <th>sex</th>\n",
       "      <th>All Countries</th>\n",
       "      <th>All countries excluding Ireland,United Kingdom and EU272020</th>\n",
       "      <th>EU14 excl Irl (countries in the EU pre 2004 excluding UK &amp; Ireland)</th>\n",
       "      <th>EU15 to EU27 (accession countries joined post 2004)</th>\n",
       "      <th>Ireland</th>\n",
       "      <th>United Kingdom</th>\n",
       "    </tr>\n",
       "  </thead>\n",
       "  <tbody>\n",
       "    <tr>\n",
       "      <th>0</th>\n",
       "      <td>0</td>\n",
       "      <td>1996</td>\n",
       "      <td>Both sexes</td>\n",
       "      <td>39.2</td>\n",
       "      <td>8.2</td>\n",
       "      <td>5.0</td>\n",
       "      <td>NaN</td>\n",
       "      <td>17.7</td>\n",
       "      <td>8.3</td>\n",
       "    </tr>\n",
       "    <tr>\n",
       "      <th>1</th>\n",
       "      <td>1</td>\n",
       "      <td>1996</td>\n",
       "      <td>Female</td>\n",
       "      <td>20.4</td>\n",
       "      <td>4.2</td>\n",
       "      <td>2.8</td>\n",
       "      <td>NaN</td>\n",
       "      <td>9.5</td>\n",
       "      <td>3.9</td>\n",
       "    </tr>\n",
       "    <tr>\n",
       "      <th>2</th>\n",
       "      <td>2</td>\n",
       "      <td>1996</td>\n",
       "      <td>Male</td>\n",
       "      <td>18.8</td>\n",
       "      <td>4.0</td>\n",
       "      <td>2.2</td>\n",
       "      <td>NaN</td>\n",
       "      <td>8.2</td>\n",
       "      <td>4.3</td>\n",
       "    </tr>\n",
       "    <tr>\n",
       "      <th>3</th>\n",
       "      <td>3</td>\n",
       "      <td>1997</td>\n",
       "      <td>Both sexes</td>\n",
       "      <td>44.5</td>\n",
       "      <td>9.7</td>\n",
       "      <td>5.5</td>\n",
       "      <td>NaN</td>\n",
       "      <td>20.8</td>\n",
       "      <td>8.4</td>\n",
       "    </tr>\n",
       "    <tr>\n",
       "      <th>4</th>\n",
       "      <td>4</td>\n",
       "      <td>1997</td>\n",
       "      <td>Female</td>\n",
       "      <td>22.6</td>\n",
       "      <td>5.1</td>\n",
       "      <td>3.1</td>\n",
       "      <td>NaN</td>\n",
       "      <td>10.7</td>\n",
       "      <td>3.8</td>\n",
       "    </tr>\n",
       "  </tbody>\n",
       "</table>\n",
       "</div>"
      ],
      "text/plain": [
       "citizenship  index  year         sex  All Countries  \\\n",
       "0                0  1996  Both sexes           39.2   \n",
       "1                1  1996      Female           20.4   \n",
       "2                2  1996        Male           18.8   \n",
       "3                3  1997  Both sexes           44.5   \n",
       "4                4  1997      Female           22.6   \n",
       "\n",
       "citizenship  All countries excluding Ireland,United Kingdom and EU272020  \\\n",
       "0                                                          8.2             \n",
       "1                                                          4.2             \n",
       "2                                                          4.0             \n",
       "3                                                          9.7             \n",
       "4                                                          5.1             \n",
       "\n",
       "citizenship  EU14 excl Irl (countries in the EU pre 2004 excluding UK & Ireland)  \\\n",
       "0                                                          5.0                     \n",
       "1                                                          2.8                     \n",
       "2                                                          2.2                     \n",
       "3                                                          5.5                     \n",
       "4                                                          3.1                     \n",
       "\n",
       "citizenship  EU15 to EU27 (accession countries joined post 2004)  Ireland  \\\n",
       "0                                                          NaN       17.7   \n",
       "1                                                          NaN        9.5   \n",
       "2                                                          NaN        8.2   \n",
       "3                                                          NaN       20.8   \n",
       "4                                                          NaN       10.7   \n",
       "\n",
       "citizenship  United Kingdom  \n",
       "0                       8.3  \n",
       "1                       3.9  \n",
       "2                       4.3  \n",
       "3                       8.4  \n",
       "4                       3.8  "
      ]
     },
     "execution_count": 69,
     "metadata": {},
     "output_type": "execute_result"
    }
   ],
   "source": [
    "df_pivot.head()"
   ]
  },
  {
   "cell_type": "code",
   "execution_count": 70,
   "id": "d88ab9e6",
   "metadata": {
    "scrolled": false
   },
   "outputs": [
    {
     "data": {
      "text/html": [
       "<div>\n",
       "<style scoped>\n",
       "    .dataframe tbody tr th:only-of-type {\n",
       "        vertical-align: middle;\n",
       "    }\n",
       "\n",
       "    .dataframe tbody tr th {\n",
       "        vertical-align: top;\n",
       "    }\n",
       "\n",
       "    .dataframe thead th {\n",
       "        text-align: right;\n",
       "    }\n",
       "</style>\n",
       "<table border=\"1\" class=\"dataframe\">\n",
       "  <thead>\n",
       "    <tr style=\"text-align: right;\">\n",
       "      <th>citizenship</th>\n",
       "      <th>index</th>\n",
       "      <th>year</th>\n",
       "      <th>sex</th>\n",
       "      <th>All Countries</th>\n",
       "      <th>Non-EU/Ireland/UK 2020</th>\n",
       "      <th>EU14 excl Irl</th>\n",
       "      <th>EU15 to EU27</th>\n",
       "      <th>Ireland</th>\n",
       "      <th>United Kingdom</th>\n",
       "    </tr>\n",
       "  </thead>\n",
       "  <tbody>\n",
       "    <tr>\n",
       "      <th>0</th>\n",
       "      <td>0</td>\n",
       "      <td>1996</td>\n",
       "      <td>Both sexes</td>\n",
       "      <td>39.2</td>\n",
       "      <td>8.2</td>\n",
       "      <td>5.0</td>\n",
       "      <td>NaN</td>\n",
       "      <td>17.7</td>\n",
       "      <td>8.3</td>\n",
       "    </tr>\n",
       "    <tr>\n",
       "      <th>1</th>\n",
       "      <td>1</td>\n",
       "      <td>1996</td>\n",
       "      <td>Female</td>\n",
       "      <td>20.4</td>\n",
       "      <td>4.2</td>\n",
       "      <td>2.8</td>\n",
       "      <td>NaN</td>\n",
       "      <td>9.5</td>\n",
       "      <td>3.9</td>\n",
       "    </tr>\n",
       "    <tr>\n",
       "      <th>2</th>\n",
       "      <td>2</td>\n",
       "      <td>1996</td>\n",
       "      <td>Male</td>\n",
       "      <td>18.8</td>\n",
       "      <td>4.0</td>\n",
       "      <td>2.2</td>\n",
       "      <td>NaN</td>\n",
       "      <td>8.2</td>\n",
       "      <td>4.3</td>\n",
       "    </tr>\n",
       "    <tr>\n",
       "      <th>3</th>\n",
       "      <td>3</td>\n",
       "      <td>1997</td>\n",
       "      <td>Both sexes</td>\n",
       "      <td>44.5</td>\n",
       "      <td>9.7</td>\n",
       "      <td>5.5</td>\n",
       "      <td>NaN</td>\n",
       "      <td>20.8</td>\n",
       "      <td>8.4</td>\n",
       "    </tr>\n",
       "    <tr>\n",
       "      <th>4</th>\n",
       "      <td>4</td>\n",
       "      <td>1997</td>\n",
       "      <td>Female</td>\n",
       "      <td>22.6</td>\n",
       "      <td>5.1</td>\n",
       "      <td>3.1</td>\n",
       "      <td>NaN</td>\n",
       "      <td>10.7</td>\n",
       "      <td>3.8</td>\n",
       "    </tr>\n",
       "  </tbody>\n",
       "</table>\n",
       "</div>"
      ],
      "text/plain": [
       "citizenship  index  year         sex  All Countries  Non-EU/Ireland/UK 2020  \\\n",
       "0                0  1996  Both sexes           39.2                     8.2   \n",
       "1                1  1996      Female           20.4                     4.2   \n",
       "2                2  1996        Male           18.8                     4.0   \n",
       "3                3  1997  Both sexes           44.5                     9.7   \n",
       "4                4  1997      Female           22.6                     5.1   \n",
       "\n",
       "citizenship  EU14 excl Irl  EU15 to EU27  Ireland  United Kingdom  \n",
       "0                      5.0           NaN     17.7             8.3  \n",
       "1                      2.8           NaN      9.5             3.9  \n",
       "2                      2.2           NaN      8.2             4.3  \n",
       "3                      5.5           NaN     20.8             8.4  \n",
       "4                      3.1           NaN     10.7             3.8  "
      ]
     },
     "execution_count": 70,
     "metadata": {},
     "output_type": "execute_result"
    }
   ],
   "source": [
    "# Dictionary for renaming columns\n",
    "rename_dict = {\n",
    "    'All countries excluding Ireland,United Kingdom and EU272020': 'Non-EU/Ireland/UK 2020',\n",
    "    'EU14 excl Irl (countries in the EU pre 2004 excluding UK & Ireland)': 'EU14 excl Irl',\n",
    "    'EU15 to EU27 (accession countries joined post 2004)': 'EU15 to EU27',\n",
    "    'Ireland': 'Ireland',\n",
    "    'United Kingdom': 'United Kingdom'\n",
    "}\n",
    "df_pivot.rename(columns=rename_dict, inplace=True)\n",
    "df_pivot.head()\n",
    "\n"
   ]
  },
  {
   "cell_type": "markdown",
   "id": "189c61c8",
   "metadata": {},
   "source": [
    " ## Cleaning PEA24 Immigration by Citizenship "
   ]
  },
  {
   "cell_type": "code",
   "execution_count": 71,
   "id": "5fbc6976",
   "metadata": {},
   "outputs": [
    {
     "data": {
      "text/plain": [
       "citizenship\n",
       "index                      0\n",
       "year                       0\n",
       "sex                        0\n",
       "All Countries              0\n",
       "Non-EU/Ireland/UK 2020     0\n",
       "EU14 excl Irl              0\n",
       "EU15 to EU27              27\n",
       "Ireland                    0\n",
       "United Kingdom             0\n",
       "dtype: int64"
      ]
     },
     "execution_count": 71,
     "metadata": {},
     "output_type": "execute_result"
    }
   ],
   "source": [
    "# NaNs mask summed per column.\n",
    "df_pivot.isna().sum()"
   ]
  },
  {
   "cell_type": "markdown",
   "id": "515dbc4e",
   "metadata": {},
   "source": [
    " ## Visualising missing  PEA24 Immigration by Citizenship"
   ]
  },
  {
   "cell_type": "code",
   "execution_count": 72,
   "id": "1934d7f4",
   "metadata": {
    "scrolled": false
   },
   "outputs": [
    {
     "data": {
      "image/png": "[encoded data removed]",
      "text/plain": [
       "<Figure size 1500x800 with 1 Axes>"
      ]
     },
     "metadata": {},
     "output_type": "display_data"
    }
   ],
   "source": [
    "# Plotting a heatmap to show the distribution of NaN values\n",
    "plt.figure(figsize=(15, 8))\n",
    "sns.heatmap(df_pivot.isna(), cbar=False)\n",
    "plt.title(\"Heatmap of NaN Distribution in DataFrame\")\n",
    "plt.savefig('../images/citizenship_immigration_missing_heatmap.png')\n",
    "plt.show()\n"
   ]
  },
  {
   "cell_type": "markdown",
   "id": "42d24165",
   "metadata": {},
   "source": [
    "## Cleaning strategy:\n",
    "\n",
    "Replace the NaN values in  'EU15 to EU27'  with zeros (0) using  .fillna() method in Pandas. \n",
    "\n",
    "EU15: The  original 15 EU member states before the 2004 enlargement.\n",
    "\n",
    "Ten new members: Cyprus, Czech Republic, Estonia, Hungary, Latvia, Lithuania, Malta, Poland, Slovakia, and Slovenia. Later, Bulgaria and Romania joined in 2007, and Croatia in 2013, forming the EU27 (pre-Brexit).\n",
    "\n",
    "Data Context: NaNs for earlier years can be assumed to be zero.\n",
    "\n"
   ]
  },
  {
   "cell_type": "code",
   "execution_count": 79,
   "id": "16104e96",
   "metadata": {},
   "outputs": [
    {
     "data": {
      "text/plain": [
       "citizenship\n",
       "index                     0\n",
       "year                      0\n",
       "sex                       0\n",
       "All Countries             0\n",
       "Non-EU/Ireland/UK 2020    0\n",
       "EU14 excl Irl             0\n",
       "EU15 to EU27              0\n",
       "Ireland                   0\n",
       "United Kingdom            0\n",
       "dtype: int64"
      ]
     },
     "execution_count": 79,
     "metadata": {},
     "output_type": "execute_result"
    }
   ],
   "source": [
    "# Replace NaN values in 'EU15 to EU27' column with 0\n",
    "df_pivot['EU15 to EU27'] = df_pivot['EU15 to EU27'].fillna(0)\n",
    "\n",
    "# Check the changes\n",
    "df_pivot.isna().sum()\n"
   ]
  },
  {
   "cell_type": "code",
   "execution_count": 80,
   "id": "a71babb1",
   "metadata": {},
   "outputs": [],
   "source": []
  },
  {
   "cell_type": "code",
   "execution_count": 81,
   "id": "9bc4b71a",
   "metadata": {},
   "outputs": [],
   "source": [
    "# Save the clean DataFrame to a new CSV file\n",
    "df_pivot.to_csv('../data/pivot_citizenship_emigration_clean_pea24.csv', index=True)"
   ]
  },
  {
   "cell_type": "markdown",
   "id": "d41e4e08",
   "metadata": {},
   "source": [
    "## Initial EDA on PEA24 Immigration by Citizenship"
   ]
  },
  {
   "cell_type": "code",
   "execution_count": 82,
   "id": "33203a66",
   "metadata": {},
   "outputs": [
    {
     "data": {
      "text/html": [
       "<div>\n",
       "<style scoped>\n",
       "    .dataframe tbody tr th:only-of-type {\n",
       "        vertical-align: middle;\n",
       "    }\n",
       "\n",
       "    .dataframe tbody tr th {\n",
       "        vertical-align: top;\n",
       "    }\n",
       "\n",
       "    .dataframe thead th {\n",
       "        text-align: right;\n",
       "    }\n",
       "</style>\n",
       "<table border=\"1\" class=\"dataframe\">\n",
       "  <thead>\n",
       "    <tr style=\"text-align: right;\">\n",
       "      <th>citizenship</th>\n",
       "      <th>index</th>\n",
       "      <th>year</th>\n",
       "      <th>sex</th>\n",
       "      <th>All Countries</th>\n",
       "      <th>Non-EU/Ireland/UK 2020</th>\n",
       "      <th>EU14 excl Irl</th>\n",
       "      <th>EU15 to EU27</th>\n",
       "      <th>Ireland</th>\n",
       "      <th>United Kingdom</th>\n",
       "    </tr>\n",
       "  </thead>\n",
       "  <tbody>\n",
       "    <tr>\n",
       "      <th>0</th>\n",
       "      <td>0</td>\n",
       "      <td>1996</td>\n",
       "      <td>Both sexes</td>\n",
       "      <td>39.2</td>\n",
       "      <td>8.2</td>\n",
       "      <td>5.0</td>\n",
       "      <td>0.0</td>\n",
       "      <td>17.7</td>\n",
       "      <td>8.3</td>\n",
       "    </tr>\n",
       "    <tr>\n",
       "      <th>1</th>\n",
       "      <td>1</td>\n",
       "      <td>1996</td>\n",
       "      <td>Female</td>\n",
       "      <td>20.4</td>\n",
       "      <td>4.2</td>\n",
       "      <td>2.8</td>\n",
       "      <td>0.0</td>\n",
       "      <td>9.5</td>\n",
       "      <td>3.9</td>\n",
       "    </tr>\n",
       "    <tr>\n",
       "      <th>2</th>\n",
       "      <td>2</td>\n",
       "      <td>1996</td>\n",
       "      <td>Male</td>\n",
       "      <td>18.8</td>\n",
       "      <td>4.0</td>\n",
       "      <td>2.2</td>\n",
       "      <td>0.0</td>\n",
       "      <td>8.2</td>\n",
       "      <td>4.3</td>\n",
       "    </tr>\n",
       "    <tr>\n",
       "      <th>3</th>\n",
       "      <td>3</td>\n",
       "      <td>1997</td>\n",
       "      <td>Both sexes</td>\n",
       "      <td>44.5</td>\n",
       "      <td>9.7</td>\n",
       "      <td>5.5</td>\n",
       "      <td>0.0</td>\n",
       "      <td>20.8</td>\n",
       "      <td>8.4</td>\n",
       "    </tr>\n",
       "    <tr>\n",
       "      <th>4</th>\n",
       "      <td>4</td>\n",
       "      <td>1997</td>\n",
       "      <td>Female</td>\n",
       "      <td>22.6</td>\n",
       "      <td>5.1</td>\n",
       "      <td>3.1</td>\n",
       "      <td>0.0</td>\n",
       "      <td>10.7</td>\n",
       "      <td>3.8</td>\n",
       "    </tr>\n",
       "  </tbody>\n",
       "</table>\n",
       "</div>"
      ],
      "text/plain": [
       "citizenship  index  year         sex  All Countries  Non-EU/Ireland/UK 2020  \\\n",
       "0                0  1996  Both sexes           39.2                     8.2   \n",
       "1                1  1996      Female           20.4                     4.2   \n",
       "2                2  1996        Male           18.8                     4.0   \n",
       "3                3  1997  Both sexes           44.5                     9.7   \n",
       "4                4  1997      Female           22.6                     5.1   \n",
       "\n",
       "citizenship  EU14 excl Irl  EU15 to EU27  Ireland  United Kingdom  \n",
       "0                      5.0           0.0     17.7             8.3  \n",
       "1                      2.8           0.0      9.5             3.9  \n",
       "2                      2.2           0.0      8.2             4.3  \n",
       "3                      5.5           0.0     20.8             8.4  \n",
       "4                      3.1           0.0     10.7             3.8  "
      ]
     },
     "execution_count": 82,
     "metadata": {},
     "output_type": "execute_result"
    }
   ],
   "source": [
    "df_pivot.head()"
   ]
  },
  {
   "cell_type": "code",
   "execution_count": 83,
   "id": "cd76cb87",
   "metadata": {},
   "outputs": [
    {
     "data": {
      "image/png": "[encoded data removed]",
      "text/plain": [
       "<Figure size 1500x800 with 1 Axes>"
      ]
     },
     "metadata": {},
     "output_type": "display_data"
    }
   ],
   "source": [
    "# Filtering the DataFrame for 'Both sexes' to focus on aggregate data\n",
    "df_filtered = df_pivot[df_pivot['sex'] == 'Both sexes']\n",
    "\n",
    "# Plotting the data for the specified columns\n",
    "plt.figure(figsize=(15, 8))\n",
    "plt.plot(df_filtered['year'], df_filtered['EU14 excl Irl'], marker='o', label='EU14 excl Irl')\n",
    "plt.plot(df_filtered['year'], df_filtered['EU15 to EU27'], marker='o', label='EU15 to EU27')\n",
    "plt.plot(df_filtered['year'], df_filtered['United Kingdom'], marker='o', label='United Kingdom')\n",
    "plt.plot(df_filtered['year'], df_filtered['Ireland'], marker='o', label='Ireland')\n",
    "plt.plot(df_filtered['year'], df_filtered['Non-EU/Ireland/UK 2020'], marker='o', label='Non-EU/Ireland/UK 2020')\n",
    "\n",
    "plt.title('Estimated Emigration by Citizenshp (2006-2020)')\n",
    "plt.xlabel('Year')\n",
    "plt.ylabel('Emigration (Thousands)')\n",
    "plt.legend()\n",
    "plt.grid(True)\n",
    "plt.savefig('../images/Citizenship_Emigration.png')\n",
    "plt.show()"
   ]
  },
  {
   "cell_type": "markdown",
   "id": "820f870e",
   "metadata": {},
   "source": [
    "### Ongoing research\n",
    "These mortality, fertility, and migration figures will be merged with population and other data from  [Central Statistics Office in Ireland  population of Ireland series.](https://data.cso.ie/product/pme)"
   ]
  },
  {
   "cell_type": "code",
   "execution_count": 85,
   "id": "2ad69f60",
   "metadata": {},
   "outputs": [],
   "source": [
    "df=df_pivot"
   ]
  },
  {
   "cell_type": "code",
   "execution_count": 88,
   "id": "bd864ffb",
   "metadata": {},
   "outputs": [
    {
     "data": {
      "text/html": [
       "<div>\n",
       "<style scoped>\n",
       "    .dataframe tbody tr th:only-of-type {\n",
       "        vertical-align: middle;\n",
       "    }\n",
       "\n",
       "    .dataframe tbody tr th {\n",
       "        vertical-align: top;\n",
       "    }\n",
       "\n",
       "    .dataframe thead th {\n",
       "        text-align: right;\n",
       "    }\n",
       "</style>\n",
       "<table border=\"1\" class=\"dataframe\">\n",
       "  <thead>\n",
       "    <tr style=\"text-align: right;\">\n",
       "      <th>citizenship</th>\n",
       "      <th>index</th>\n",
       "      <th>year</th>\n",
       "      <th>All Countries</th>\n",
       "      <th>Non-EU/Ireland/UK 2020</th>\n",
       "      <th>EU14 excl Irl</th>\n",
       "      <th>EU15 to EU27</th>\n",
       "      <th>Ireland</th>\n",
       "      <th>United Kingdom</th>\n",
       "    </tr>\n",
       "  </thead>\n",
       "  <tbody>\n",
       "    <tr>\n",
       "      <th>count</th>\n",
       "      <td>84.000000</td>\n",
       "      <td>84.000000</td>\n",
       "      <td>84.000000</td>\n",
       "      <td>84.000000</td>\n",
       "      <td>84.000000</td>\n",
       "      <td>84.000000</td>\n",
       "      <td>84.000000</td>\n",
       "      <td>84.000000</td>\n",
       "    </tr>\n",
       "    <tr>\n",
       "      <th>mean</th>\n",
       "      <td>41.500000</td>\n",
       "      <td>2009.500000</td>\n",
       "      <td>51.275000</td>\n",
       "      <td>15.133333</td>\n",
       "      <td>6.283333</td>\n",
       "      <td>9.257143</td>\n",
       "      <td>16.402381</td>\n",
       "      <td>4.204762</td>\n",
       "    </tr>\n",
       "    <tr>\n",
       "      <th>std</th>\n",
       "      <td>24.392622</td>\n",
       "      <td>8.126263</td>\n",
       "      <td>27.373322</td>\n",
       "      <td>12.693508</td>\n",
       "      <td>2.933637</td>\n",
       "      <td>14.231420</td>\n",
       "      <td>6.955850</td>\n",
       "      <td>2.099392</td>\n",
       "    </tr>\n",
       "    <tr>\n",
       "      <th>min</th>\n",
       "      <td>0.000000</td>\n",
       "      <td>1996.000000</td>\n",
       "      <td>18.800000</td>\n",
       "      <td>2.800000</td>\n",
       "      <td>2.200000</td>\n",
       "      <td>0.000000</td>\n",
       "      <td>7.900000</td>\n",
       "      <td>1.100000</td>\n",
       "    </tr>\n",
       "    <tr>\n",
       "      <th>25%</th>\n",
       "      <td>20.750000</td>\n",
       "      <td>2002.750000</td>\n",
       "      <td>30.475000</td>\n",
       "      <td>7.550000</td>\n",
       "      <td>4.050000</td>\n",
       "      <td>0.000000</td>\n",
       "      <td>11.150000</td>\n",
       "      <td>2.500000</td>\n",
       "    </tr>\n",
       "    <tr>\n",
       "      <th>50%</th>\n",
       "      <td>41.500000</td>\n",
       "      <td>2009.500000</td>\n",
       "      <td>47.100000</td>\n",
       "      <td>11.150000</td>\n",
       "      <td>5.600000</td>\n",
       "      <td>5.400000</td>\n",
       "      <td>14.650000</td>\n",
       "      <td>3.900000</td>\n",
       "    </tr>\n",
       "    <tr>\n",
       "      <th>75%</th>\n",
       "      <td>62.250000</td>\n",
       "      <td>2016.250000</td>\n",
       "      <td>60.900000</td>\n",
       "      <td>18.625000</td>\n",
       "      <td>7.750000</td>\n",
       "      <td>10.425000</td>\n",
       "      <td>19.725000</td>\n",
       "      <td>5.000000</td>\n",
       "    </tr>\n",
       "    <tr>\n",
       "      <th>max</th>\n",
       "      <td>83.000000</td>\n",
       "      <td>2023.000000</td>\n",
       "      <td>151.100000</td>\n",
       "      <td>81.100000</td>\n",
       "      <td>15.000000</td>\n",
       "      <td>85.300000</td>\n",
       "      <td>36.400000</td>\n",
       "      <td>9.900000</td>\n",
       "    </tr>\n",
       "  </tbody>\n",
       "</table>\n",
       "</div>"
      ],
      "text/plain": [
       "citizenship      index         year  All Countries  Non-EU/Ireland/UK 2020  \\\n",
       "count        84.000000    84.000000      84.000000               84.000000   \n",
       "mean         41.500000  2009.500000      51.275000               15.133333   \n",
       "std          24.392622     8.126263      27.373322               12.693508   \n",
       "min           0.000000  1996.000000      18.800000                2.800000   \n",
       "25%          20.750000  2002.750000      30.475000                7.550000   \n",
       "50%          41.500000  2009.500000      47.100000               11.150000   \n",
       "75%          62.250000  2016.250000      60.900000               18.625000   \n",
       "max          83.000000  2023.000000     151.100000               81.100000   \n",
       "\n",
       "citizenship  EU14 excl Irl  EU15 to EU27    Ireland  United Kingdom  \n",
       "count            84.000000     84.000000  84.000000       84.000000  \n",
       "mean              6.283333      9.257143  16.402381        4.204762  \n",
       "std               2.933637     14.231420   6.955850        2.099392  \n",
       "min               2.200000      0.000000   7.900000        1.100000  \n",
       "25%               4.050000      0.000000  11.150000        2.500000  \n",
       "50%               5.600000      5.400000  14.650000        3.900000  \n",
       "75%               7.750000     10.425000  19.725000        5.000000  \n",
       "max              15.000000     85.300000  36.400000        9.900000  "
      ]
     },
     "execution_count": 88,
     "metadata": {},
     "output_type": "execute_result"
    }
   ],
   "source": [
    "\n",
    "\n",
    "# Display basic descriptive statistics\n",
    "df.describe()\n",
    "\n"
   ]
  },
  {
   "cell_type": "code",
   "execution_count": 89,
   "id": "7f4fed0f",
   "metadata": {},
   "outputs": [
    {
     "data": {
      "text/html": [
       "<div>\n",
       "<style scoped>\n",
       "    .dataframe tbody tr th:only-of-type {\n",
       "        vertical-align: middle;\n",
       "    }\n",
       "\n",
       "    .dataframe tbody tr th {\n",
       "        vertical-align: top;\n",
       "    }\n",
       "\n",
       "    .dataframe thead th {\n",
       "        text-align: right;\n",
       "    }\n",
       "</style>\n",
       "<table border=\"1\" class=\"dataframe\">\n",
       "  <thead>\n",
       "    <tr style=\"text-align: right;\">\n",
       "      <th>citizenship</th>\n",
       "      <th>Non-EU/Ireland/UK 2020</th>\n",
       "      <th>EU14 excl Irl</th>\n",
       "      <th>EU15 to EU27</th>\n",
       "      <th>Ireland</th>\n",
       "      <th>United Kingdom</th>\n",
       "    </tr>\n",
       "    <tr>\n",
       "      <th>citizenship</th>\n",
       "      <th></th>\n",
       "      <th></th>\n",
       "      <th></th>\n",
       "      <th></th>\n",
       "      <th></th>\n",
       "    </tr>\n",
       "  </thead>\n",
       "  <tbody>\n",
       "    <tr>\n",
       "      <th>Non-EU/Ireland/UK 2020</th>\n",
       "      <td>1.000000</td>\n",
       "      <td>0.725994</td>\n",
       "      <td>0.077471</td>\n",
       "      <td>0.550806</td>\n",
       "      <td>0.136826</td>\n",
       "    </tr>\n",
       "    <tr>\n",
       "      <th>EU14 excl Irl</th>\n",
       "      <td>0.725994</td>\n",
       "      <td>1.000000</td>\n",
       "      <td>0.398934</td>\n",
       "      <td>0.714937</td>\n",
       "      <td>0.437682</td>\n",
       "    </tr>\n",
       "    <tr>\n",
       "      <th>EU15 to EU27</th>\n",
       "      <td>0.077471</td>\n",
       "      <td>0.398934</td>\n",
       "      <td>1.000000</td>\n",
       "      <td>0.245577</td>\n",
       "      <td>0.098018</td>\n",
       "    </tr>\n",
       "    <tr>\n",
       "      <th>Ireland</th>\n",
       "      <td>0.550806</td>\n",
       "      <td>0.714937</td>\n",
       "      <td>0.245577</td>\n",
       "      <td>1.000000</td>\n",
       "      <td>0.528416</td>\n",
       "    </tr>\n",
       "    <tr>\n",
       "      <th>United Kingdom</th>\n",
       "      <td>0.136826</td>\n",
       "      <td>0.437682</td>\n",
       "      <td>0.098018</td>\n",
       "      <td>0.528416</td>\n",
       "      <td>1.000000</td>\n",
       "    </tr>\n",
       "  </tbody>\n",
       "</table>\n",
       "</div>"
      ],
      "text/plain": [
       "citizenship             Non-EU/Ireland/UK 2020  EU14 excl Irl  EU15 to EU27  \\\n",
       "citizenship                                                                   \n",
       "Non-EU/Ireland/UK 2020                1.000000       0.725994      0.077471   \n",
       "EU14 excl Irl                         0.725994       1.000000      0.398934   \n",
       "EU15 to EU27                          0.077471       0.398934      1.000000   \n",
       "Ireland                               0.550806       0.714937      0.245577   \n",
       "United Kingdom                        0.136826       0.437682      0.098018   \n",
       "\n",
       "citizenship              Ireland  United Kingdom  \n",
       "citizenship                                       \n",
       "Non-EU/Ireland/UK 2020  0.550806        0.136826  \n",
       "EU14 excl Irl           0.714937        0.437682  \n",
       "EU15 to EU27            0.245577        0.098018  \n",
       "Ireland                 1.000000        0.528416  \n",
       "United Kingdom          0.528416        1.000000  "
      ]
     },
     "execution_count": 89,
     "metadata": {},
     "output_type": "execute_result"
    }
   ],
   "source": [
    "# Selecting only the numerical columns related to different regions/countries\n",
    "columns_of_interest = ['Non-EU/Ireland/UK 2020', 'EU14 excl Irl', 'EU15 to EU27', 'Ireland', 'United Kingdom']\n",
    "df_regions = df[columns_of_interest]\n",
    "\n",
    "# Calculating the correlation matrix\n",
    "correlation_matrix = df_regions.corr()\n",
    "\n",
    "correlation_matrix\n"
   ]
  },
  {
   "cell_type": "code",
   "execution_count": null,
   "id": "ccddc1a4",
   "metadata": {},
   "outputs": [],
   "source": []
  },
  {
   "cell_type": "code",
   "execution_count": null,
   "id": "75b3065e",
   "metadata": {},
   "outputs": [],
   "source": []
  }
 ],
 "metadata": {
  "kernelspec": {
   "display_name": "Python 3 (ipykernel)",
   "language": "python",
   "name": "python3"
  },
  "language_info": {
   "codemirror_mode": {
    "name": "ipython",
    "version": 3
   },
   "file_extension": ".py",
   "mimetype": "text/x-python",
   "name": "python",
   "nbconvert_exporter": "python",
   "pygments_lexer": "ipython3",
   "version": "3.11.4"
  },
  "toc": {
   "base_numbering": 1,
   "nav_menu": {},
   "number_sections": true,
   "sideBar": true,
   "skip_h1_title": true,
   "title_cell": "Table of Contents",
   "title_sidebar": "Contents",
   "toc_cell": false,
   "toc_position": {
    "height": "calc(100% - 180px)",
    "left": "10px",
    "top": "150px",
    "width": "288px"
   },
   "toc_section_display": true,
   "toc_window_display": true
  }
 },
 "nbformat": 4,
 "nbformat_minor": 5
}
