{
 "cells": [
  {
   "cell_type": "code",
   "execution_count": 1,
   "id": "2315994e",
   "metadata": {},
   "outputs": [
    {
     "data": {
      "text/plain": [
       "['.ipynb_checkpoints',\n",
       " 'age_structure_0_4_repaired.png',\n",
       " 'age_structure_1950.png',\n",
       " 'age_structure_1955.png',\n",
       " 'age_structure_1960.png',\n",
       " 'age_structure_1965.png',\n",
       " 'age_structure_1970.png',\n",
       " 'age_structure_1975.png',\n",
       " 'age_structure_1980.png',\n",
       " 'age_structure_1985.png',\n",
       " 'age_structure_1990.png',\n",
       " 'age_structure_1995.png',\n",
       " 'age_structure_2000.png',\n",
       " 'age_structure_2005.png',\n",
       " 'age_structure_2010.png',\n",
       " 'age_structure_2015.png',\n",
       " 'age_structure_2020.png',\n",
       " 'age_structure_2021.png',\n",
       " 'age_structure_2022.png',\n",
       " 'age_structure_2023.png',\n",
       " 'age_structure_missing_04_barchart.png',\n",
       " 'age_structure_missing_heatmap.png',\n",
       " 'age_structure_non-mutually_exclusive2022.png',\n",
       " 'all_regions_population_change_separate_scale_dublin.png',\n",
       " 'change_componentvital_births_since_2007.png',\n",
       " 'change_componentvital_deaths_since_2009.png',\n",
       " 'change_componentvital_emigrants_since_2000.png',\n",
       " 'change_componentvital_events{start_date}.png',\n",
       " 'change_componentvital_immigrants_since_2000.png',\n",
       " 'change_componentvital_migration_since_2000.png',\n",
       " 'change_componentvital_natural_since_2005.png',\n",
       " 'change_component_missing_heatmap.png',\n",
       " 'Citizenship_Emigration.png',\n",
       " 'Citizenship_Immigration.png',\n",
       " 'citizenship_immigration_missing_heatmap.png',\n",
       " 'citizenship_migrations.png',\n",
       " 'citizenship_migrationsCanada.png',\n",
       " 'citizenship_migrations_for_Australia_since_1987.png',\n",
       " 'citizenship_migrations_for_EU15_to_27_since_1987.png',\n",
       " 'citizenship_migrations_for_other_countries_23_since_1987.png',\n",
       " 'citizenship_migrations_for_UK_since_1987.png',\n",
       " 'Citizenship_Population.png',\n",
       " 'NetMigration_by_country_and_region.png',\n",
       " 'NetMigration_for_EU14_excl_Irl_UK_since_1987.png',\n",
       " 'PEA01_01_age_structure_missing_heatmap.png',\n",
       " 'PEA01_02age_structure_missing_04_barchart.png',\n",
       " 'PEA01_03age_structure_0_4_repaired.png',\n",
       " 'PEA01_04age_structure_non-mutually_exclusive2022.png',\n",
       " 'PEA01_05population_trend.png',\n",
       " 'PEA01_06age_structure_1950.png',\n",
       " 'PEA01_06age_structure_1955.png',\n",
       " 'PEA01_06age_structure_1960.png',\n",
       " 'PEA01_06age_structure_1965.png',\n",
       " 'PEA01_06age_structure_1970.png',\n",
       " 'PEA01_06age_structure_1975.png',\n",
       " 'PEA01_06age_structure_1980.png',\n",
       " 'PEA01_06age_structure_1985.png',\n",
       " 'PEA01_06age_structure_1990.png',\n",
       " 'PEA01_06age_structure_1995.png',\n",
       " 'PEA01_06age_structure_2000.png',\n",
       " 'PEA01_06age_structure_2005.png',\n",
       " 'PEA01_06age_structure_2010.png',\n",
       " 'PEA01_06age_structure_2015.png',\n",
       " 'PEA01_06age_structure_2020.png',\n",
       " 'PEA01_06age_structure_2021.png',\n",
       " 'PEA01_06age_structure_2022.png',\n",
       " 'PEA01_06age_structure_2023.png',\n",
       " 'PEA01_age_structure_missing_heatmap.png',\n",
       " 'population_trend.png',\n",
       " 'regions_population_change_separate_scale_dublin.png',\n",
       " 'regions_population_Pie_chart.png',\n",
       " 'Untitled.ipynb']"
      ]
     },
     "execution_count": 1,
     "metadata": {},
     "output_type": "execute_result"
    }
   ],
   "source": [
    "import os\n",
    "\n",
    "\n",
    "# List all files in the 'images' directory\n",
    "image_folder_path = '../images'\n",
    "images = os.listdir(image_folder_path)\n",
    "\n",
    "# Display the list of image files\n",
    "images\n"
   ]
  },
  {
   "cell_type": "code",
   "execution_count": null,
   "id": "f08d0b88",
   "metadata": {},
   "outputs": [],
   "source": []
  }
 ],
 "metadata": {
  "kernelspec": {
   "display_name": "Python 3 (ipykernel)",
   "language": "python",
   "name": "python3"
  },
  "language_info": {
   "codemirror_mode": {
    "name": "ipython",
    "version": 3
   },
   "file_extension": ".py",
   "mimetype": "text/x-python",
   "name": "python",
   "nbconvert_exporter": "python",
   "pygments_lexer": "ipython3",
   "version": "3.11.4"
  },
  "toc": {
   "base_numbering": 1,
   "nav_menu": {},
   "number_sections": true,
   "sideBar": true,
   "skip_h1_title": true,
   "title_cell": "Table of Contents",
   "title_sidebar": "Contents",
   "toc_cell": false,
   "toc_position": {},
   "toc_section_display": true,
   "toc_window_display": true
  }
 },
 "nbformat": 4,
 "nbformat_minor": 5
}
