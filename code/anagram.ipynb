{
 "cells": [
  {
   "cell_type": "code",
   "execution_count": 2,
   "id": "f1d7e939",
   "metadata": {},
   "outputs": [
    {
     "name": "stdout",
     "output_type": "stream",
     "text": [
      "Defaulting to user installation because normal site-packages is not writeable\n",
      "Requirement already satisfied: nltk in c:\\programdata\\anaconda3\\lib\\site-packages (3.8.1)\n",
      "Requirement already satisfied: click in c:\\programdata\\anaconda3\\lib\\site-packages (from nltk) (8.0.4)\n",
      "Requirement already satisfied: joblib in c:\\programdata\\anaconda3\\lib\\site-packages (from nltk) (1.2.0)\n",
      "Requirement already satisfied: regex>=2021.8.3 in c:\\programdata\\anaconda3\\lib\\site-packages (from nltk) (2022.7.9)\n",
      "Requirement already satisfied: tqdm in c:\\programdata\\anaconda3\\lib\\site-packages (from nltk) (4.65.0)\n",
      "Requirement already satisfied: colorama in c:\\users\\ronan\\appdata\\roaming\\python\\python311\\site-packages (from click->nltk) (0.4.6)\n"
     ]
    }
   ],
   "source": [
    "!pip install nltk"
   ]
  },
  {
   "cell_type": "code",
   "execution_count": 10,
   "id": "ece0ea98",
   "metadata": {},
   "outputs": [
    {
     "name": "stdout",
     "output_type": "stream",
     "text": [
      "Valid English word anagram of 'angle': angle\n",
      "Time elapsed: 0.000000 seconds\n"
     ]
    },
    {
     "name": "stderr",
     "output_type": "stream",
     "text": [
      "[nltk_data] Downloading package words to\n",
      "[nltk_data]     C:\\Users\\ronan\\AppData\\Roaming\\nltk_data...\n",
      "[nltk_data]   Package words is already up-to-date!\n"
     ]
    }
   ],
   "source": [
    "import random\n",
    "import nltk\n",
    "import time\n",
    "\n",
    "# Download the NLTK words\n",
    "nltk.download('words')\n",
    "\n",
    "# Get the list of English words from NLTK\n",
    "from nltk.corpus import words\n",
    "english_words = set(words.words())\n",
    "\n",
    "def generate_valid_anagram(input_text):\n",
    "    start_time = time.time()\n",
    "    max_attempts = 10000000000  # Maximum number of attempts to find a valid English word\n",
    "    attempt = 0\n",
    "    \n",
    "    while attempt < max_attempts:\n",
    "        # Convert the input text to a list of characters\n",
    "        characters = list(input_text)\n",
    "        \n",
    "        # Shuffle the characters randomly to create an anagram\n",
    "        random.shuffle(characters)\n",
    "        \n",
    "        # Join the shuffled characters to form the anagram\n",
    "        anagram = ''.join(characters)\n",
    "        \n",
    "        if anagram in english_words:\n",
    "            end_time = time.time()\n",
    "            elapsed_time = end_time - start_time\n",
    "            return anagram, elapsed_time\n",
    "        \n",
    "        attempt += 1\n",
    "\n",
    "    return \"No valid English word found\", None\n",
    "\n",
    "# Test the function with 'creative'\n",
    "input_text = 'angle'\n",
    "anagram, elapsed_time = generate_valid_anagram(input_text)\n",
    "\n",
    "if anagram != \"No valid English word found\":\n",
    "    print(f\"Valid English word anagram of '{input_text}': {anagram}\")\n",
    "    print(f\"Time elapsed: {elapsed_time:.6f} seconds\")\n",
    "else:\n",
    "    print(\"No valid English word anagram found within the maximum attempts.\")\n"
   ]
  },
  {
   "cell_type": "code",
   "execution_count": 11,
   "id": "2e2a8e4a",
   "metadata": {},
   "outputs": [
    {
     "name": "stdout",
     "output_type": "stream",
     "text": [
      "Valid English word anagrams of 'angle':\n",
      "angle\n",
      "angel\n",
      "agnel\n",
      "glean\n",
      "genal\n",
      "lagen\n"
     ]
    },
    {
     "name": "stderr",
     "output_type": "stream",
     "text": [
      "[nltk_data] Downloading package words to\n",
      "[nltk_data]     C:\\Users\\ronan\\AppData\\Roaming\\nltk_data...\n",
      "[nltk_data]   Package words is already up-to-date!\n"
     ]
    }
   ],
   "source": [
    "import itertools\n",
    "import nltk\n",
    "\n",
    "# Download the NLTK words corpus if you haven't already\n",
    "nltk.download('words')\n",
    "\n",
    "# Get the list of English words from NLTK\n",
    "from nltk.corpus import words\n",
    "english_words = set(words.words())\n",
    "\n",
    "def find_valid_anagrams(input_text):\n",
    "    valid_anagrams = []\n",
    "\n",
    "    # Generate all permutations of the input letters\n",
    "    permutations = itertools.permutations(input_text)\n",
    "\n",
    "    for perm in permutations:\n",
    "        word = ''.join(perm)\n",
    "        if word in english_words:\n",
    "            valid_anagrams.append(word)\n",
    "\n",
    "    return valid_anagrams\n",
    "\n",
    "# Test the function with 'creative'\n",
    "input_text = 'angle'\n",
    "valid_anagrams = find_valid_anagrams(input_text)\n",
    "\n",
    "if valid_anagrams:\n",
    "    print(f\"Valid English word anagrams of '{input_text}':\")\n",
    "    for anagram in valid_anagrams:\n",
    "        print(anagram)\n",
    "else:\n",
    "    print(f\"No valid English word anagrams found for '{input_text}'.\")\n"
   ]
  },
  {
   "cell_type": "code",
   "execution_count": null,
   "id": "38ad180f",
   "metadata": {},
   "outputs": [],
   "source": []
  }
 ],
 "metadata": {
  "kernelspec": {
   "display_name": "Python 3 (ipykernel)",
   "language": "python",
   "name": "python3"
  },
  "language_info": {
   "codemirror_mode": {
    "name": "ipython",
    "version": 3
   },
   "file_extension": ".py",
   "mimetype": "text/x-python",
   "name": "python",
   "nbconvert_exporter": "python",
   "pygments_lexer": "ipython3",
   "version": "3.11.4"
  },
  "toc": {
   "base_numbering": 1,
   "nav_menu": {},
   "number_sections": true,
   "sideBar": true,
   "skip_h1_title": true,
   "title_cell": "Table of Contents",
   "title_sidebar": "Contents",
   "toc_cell": false,
   "toc_position": {},
   "toc_section_display": true,
   "toc_window_display": true
  }
 },
 "nbformat": 4,
 "nbformat_minor": 5
}
